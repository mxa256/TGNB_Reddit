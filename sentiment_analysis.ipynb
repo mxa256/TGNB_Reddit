{
 "cells": [
  {
   "metadata": {},
   "cell_type": "markdown",
   "source": "## Sentiment Analysis EDA ",
   "id": "aece606c614df529"
  },
  {
   "metadata": {},
   "cell_type": "code",
   "outputs": [],
   "execution_count": null,
   "source": [
    "#Packages \n",
    "\n",
    "#General \n",
    "import pandas as pd\n",
    "import numpy as np\n",
    "\n",
    "#Sentiment Analysis \n",
    "from textblob import TextBlob\n",
    "from transformers import pipeline\n",
    "import nltk\n",
    "from nltk.sentiment.vader import SentimentIntensityAnalyzer\n",
    "from flair.models import TextClassifier\n",
    "from flair.data import Sentence \n",
    "from nrclex import NRCLex \n",
    "\n",
    "#Visualizations\n",
    "import matplotlib.pyplot as plt \n",
    "from matplotlib.pyplot import figure\n",
    "import seaborn as sns\n",
    "from wordcloud import WordCloud\n",
    "import plotly.express as px"
   ],
   "id": "8826d8c4eff6e584"
  }
 ],
 "metadata": {
  "kernelspec": {
   "display_name": "Python 3",
   "language": "python",
   "name": "python3"
  },
  "language_info": {
   "codemirror_mode": {
    "name": "ipython",
    "version": 2
   },
   "file_extension": ".py",
   "mimetype": "text/x-python",
   "name": "python",
   "nbconvert_exporter": "python",
   "pygments_lexer": "ipython2",
   "version": "2.7.6"
  }
 },
 "nbformat": 4,
 "nbformat_minor": 5
}
